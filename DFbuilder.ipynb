{
 "cells": [
  {
   "cell_type": "code",
   "execution_count": 34,
   "id": "initial_id",
   "metadata": {
    "collapsed": true,
    "ExecuteTime": {
     "end_time": "2024-05-27T14:17:20.203198800Z",
     "start_time": "2024-05-27T14:17:20.183169300Z"
    }
   },
   "outputs": [],
   "source": [
    "import pandas as pd"
   ]
  },
  {
   "cell_type": "code",
   "execution_count": 35,
   "outputs": [],
   "source": [
    "# Leer el archivo de Excel con múltiples hojas\n",
    "archivo_original = 'universidades_original4.xlsx'"
   ],
   "metadata": {
    "collapsed": false,
    "ExecuteTime": {
     "end_time": "2024-05-27T14:17:20.867578Z",
     "start_time": "2024-05-27T14:17:20.848635900Z"
    }
   },
   "id": "cd7ec09293e93ff3"
  },
  {
   "cell_type": "code",
   "execution_count": 36,
   "outputs": [],
   "source": [
    "# Leer todas las hojas\n",
    "xls = pd.ExcelFile(archivo_original)"
   ],
   "metadata": {
    "collapsed": false,
    "ExecuteTime": {
     "end_time": "2024-05-27T14:17:21.642539400Z",
     "start_time": "2024-05-27T14:17:21.564242800Z"
    }
   },
   "id": "7babbaf419411e69"
  },
  {
   "cell_type": "code",
   "execution_count": 37,
   "outputs": [],
   "source": [
    "# Inicializar un DataFrame vacío con la estructura deseada\n",
    "columnas = ['universidad', 'distrito', 'publica', 'privada', 'online']\n",
    "df_universidades = pd.DataFrame(columns=columnas)"
   ],
   "metadata": {
    "collapsed": false,
    "ExecuteTime": {
     "end_time": "2024-05-27T14:17:22.288821100Z",
     "start_time": "2024-05-27T14:17:22.284006200Z"
    }
   },
   "id": "40294129e699b1b1"
  },
  {
   "cell_type": "code",
   "execution_count": 38,
   "outputs": [],
   "source": [
    "# Procesar la hoja 'universidades'\n",
    "df_temp = pd.read_excel(xls, 'universidades', header=None)\n",
    "df_temp.columns = ['universidad']\n",
    "df_temp['distrito'] = None\n",
    "df_temp['publica'] = 'no'\n",
    "df_temp['privada'] = 'no'\n",
    "df_temp['online'] = 'no'\n",
    "df_universidades = pd.concat([df_universidades, df_temp], ignore_index=True)"
   ],
   "metadata": {
    "collapsed": false,
    "ExecuteTime": {
     "end_time": "2024-05-27T14:17:22.995891900Z",
     "start_time": "2024-05-27T14:17:22.984850600Z"
    }
   },
   "id": "60b3ce7016abcf76"
  },
  {
   "cell_type": "code",
   "execution_count": 39,
   "outputs": [],
   "source": [
    "# Procesar la hoja 'geolocalizacion'\n",
    "df_geolocalizacion = pd.read_excel(xls, 'geolocalizacion', header=None)\n",
    "distrito = None\n",
    "for i, row in df_geolocalizacion.iterrows():\n",
    "    if pd.isna(row[0]):\n",
    "        continue\n",
    "    if row[0].isupper():\n",
    "        distrito = row[0]\n",
    "    else:\n",
    "        df_universidades.loc[df_universidades['universidad'] == row[0], 'distrito'] = distrito\n"
   ],
   "metadata": {
    "collapsed": false,
    "ExecuteTime": {
     "end_time": "2024-05-27T14:17:23.707254200Z",
     "start_time": "2024-05-27T14:17:23.687403900Z"
    }
   },
   "id": "b05b428758335748"
  },
  {
   "cell_type": "code",
   "execution_count": 40,
   "outputs": [],
   "source": [
    "# Procesar la hoja 'publicas'\n",
    "df_publicas = pd.read_excel(xls, 'publicas', header=None)\n",
    "for i, row in df_publicas.iterrows():\n",
    "    if pd.isna(row[0]) or row[0] == 'Universidades Públicas':\n",
    "        continue\n",
    "    df_universidades.loc[df_universidades['universidad'] == row[0], 'publica'] = 'si'\n"
   ],
   "metadata": {
    "collapsed": false,
    "ExecuteTime": {
     "end_time": "2024-05-27T14:17:24.354464900Z",
     "start_time": "2024-05-27T14:17:24.320540700Z"
    }
   },
   "id": "9c35f11a4b605139"
  },
  {
   "cell_type": "code",
   "execution_count": 41,
   "outputs": [],
   "source": [
    "# Procesar la hoja 'privadas'\n",
    "df_privadas = pd.read_excel(xls, 'privadas', header=None)\n",
    "for i, row in df_privadas.iterrows():\n",
    "    if pd.isna(row[0]) or row[0] == 'Universidades privadas':\n",
    "        continue\n",
    "    df_universidades.loc[df_universidades['universidad'] == row[0], 'privada'] = 'si'\n"
   ],
   "metadata": {
    "collapsed": false,
    "ExecuteTime": {
     "end_time": "2024-05-27T14:17:25.592121500Z",
     "start_time": "2024-05-27T14:17:25.575898500Z"
    }
   },
   "id": "80a750d8583a712c"
  },
  {
   "cell_type": "code",
   "execution_count": 42,
   "outputs": [],
   "source": [
    "# Procesar la hoja 'online'\n",
    "df_online = pd.read_excel(xls, 'online', header=None)\n",
    "for i, row in df_online.iterrows():\n",
    "    if pd.isna(row[0]) or row[0] == 'Universidades en línea':\n",
    "        continue\n",
    "    df_universidades.loc[df_universidades['universidad'] == row[0], 'online'] = 'si'\n"
   ],
   "metadata": {
    "collapsed": false,
    "ExecuteTime": {
     "end_time": "2024-05-27T14:17:26.651173200Z",
     "start_time": "2024-05-27T14:17:26.619907800Z"
    }
   },
   "id": "c103bacb04f31d5c"
  },
  {
   "cell_type": "code",
   "execution_count": 43,
   "outputs": [
    {
     "name": "stdout",
     "output_type": "stream",
     "text": [
      "Archivo unificado guardado como 'universidades_unificado3.xlsx'\n"
     ]
    }
   ],
   "source": [
    "# Guardar el DataFrame unificado en un nuevo archivo de Excel\n",
    "archivo_unificado = 'universidades_unificado3.xlsx'\n",
    "df_universidades.to_excel(archivo_unificado, index=False)\n",
    "\n",
    "print(f\"Archivo unificado guardado como '{archivo_unificado}'\")"
   ],
   "metadata": {
    "collapsed": false,
    "ExecuteTime": {
     "end_time": "2024-05-27T14:17:29.374310600Z",
     "start_time": "2024-05-27T14:17:29.340278700Z"
    }
   },
   "id": "1ad2252950c90cb3"
  },
  {
   "cell_type": "code",
   "execution_count": null,
   "outputs": [],
   "source": [],
   "metadata": {
    "collapsed": false
   },
   "id": "77d74f7776a649b"
  }
 ],
 "metadata": {
  "kernelspec": {
   "display_name": "Python 3",
   "language": "python",
   "name": "python3"
  },
  "language_info": {
   "codemirror_mode": {
    "name": "ipython",
    "version": 2
   },
   "file_extension": ".py",
   "mimetype": "text/x-python",
   "name": "python",
   "nbconvert_exporter": "python",
   "pygments_lexer": "ipython2",
   "version": "2.7.6"
  }
 },
 "nbformat": 4,
 "nbformat_minor": 5
}
