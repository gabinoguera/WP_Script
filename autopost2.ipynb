{
 "cells": [
  {
   "cell_type": "code",
   "execution_count": 7,
   "id": "initial_id",
   "metadata": {
    "collapsed": true,
    "ExecuteTime": {
     "end_time": "2024-05-27T15:20:07.028791200Z",
     "start_time": "2024-05-27T15:20:07.015661700Z"
    }
   },
   "outputs": [],
   "source": [
    "import requests\n",
    "from requests.auth import HTTPBasicAuth\n",
    "import pandas as pd\n",
    "import unicodedata"
   ]
  },
  {
   "cell_type": "code",
   "execution_count": 8,
   "outputs": [],
   "source": [
    "# Configuración\n",
    "wordpress_url = 'https://www.tusitio.com/'\n",
    "username = 'admin'\n",
    "password = 'tu pass'\n",
    "excel_file = 'universidades.xlsx'  # Reemplaza con la ruta a tu archivo de Excel"
   ],
   "metadata": {
    "collapsed": false,
    "ExecuteTime": {
     "end_time": "2024-05-27T15:20:08.245435600Z",
     "start_time": "2024-05-27T15:20:08.229781300Z"
    }
   },
   "id": "95e8830ae7c6db1d"
  },
  {
   "cell_type": "code",
   "execution_count": 9,
   "outputs": [],
   "source": [
    "# Leer datos desde el archivo de Excel\n",
    "df = pd.read_excel(excel_file)\n",
    "\n",
    "# Eliminar filas que tienen valores NaN\n",
    "df = df.dropna(subset=['universidad'])\n",
    "\n",
    "# Convertir el DataFrame en una lista de diccionarios\n",
    "universidades = df.to_dict(orient='records')"
   ],
   "metadata": {
    "collapsed": false,
    "ExecuteTime": {
     "end_time": "2024-05-27T15:20:09.229269Z",
     "start_time": "2024-05-27T15:20:09.197888Z"
    }
   },
   "id": "482e9c9f9ba6b6d7"
  },
  {
   "cell_type": "code",
   "execution_count": 10,
   "outputs": [],
   "source": [
    "# Función para normalizar etiquetas (sin acentos y en minúsculas)\n",
    "def normalizar_etiqueta(etiqueta):\n",
    "    etiqueta = unicodedata.normalize('NFKD', etiqueta).encode('ASCII', 'ignore').decode('utf-8')\n",
    "    return etiqueta.lower()"
   ],
   "metadata": {
    "collapsed": false,
    "ExecuteTime": {
     "end_time": "2024-05-27T15:20:10.291785800Z",
     "start_time": "2024-05-27T15:20:10.276128700Z"
    }
   },
   "id": "f82142655e2c8cbc"
  },
  {
   "cell_type": "code",
   "execution_count": 11,
   "outputs": [],
   "source": [
    "# Función para crear un post\n",
    "def crear_post(nombre, contenido, etiquetas):\n",
    "    url = f\"{wordpress_url}/wp-json/wp/v2/universidades\"\n",
    "    headers = {\n",
    "        'Content-Type': 'application/json',\n",
    "    }\n",
    "    data = {\n",
    "        'title': nombre,\n",
    "        'content': contenido,\n",
    "        'status': 'publish',\n",
    "        'tags': etiquetas,\n",
    "    }\n",
    "\n",
    "    response = requests.post(url, json=data, headers=headers, auth=HTTPBasicAuth(username, password))\n",
    "    \n",
    "    if response.status_code == 201:\n",
    "        print(f\"Post '{nombre}' creado exitosamente.\")\n",
    "        return response.json()\n",
    "    else:\n",
    "        print(f\"Error al crear el post '{nombre}': {response.content}\")\n",
    "        return None"
   ],
   "metadata": {
    "collapsed": false,
    "ExecuteTime": {
     "end_time": "2024-05-27T15:20:11.327769300Z",
     "start_time": "2024-05-27T15:20:11.312177900Z"
    }
   },
   "id": "d129c034adf58f40"
  },
  {
   "cell_type": "code",
   "execution_count": 12,
   "outputs": [],
   "source": [
    "# Función para obtener el ID de una etiqueta o crearla si no existe\n",
    "def obtener_o_crear_etiqueta(nombre_etiqueta):\n",
    "    if not nombre_etiqueta or pd.isna(nombre_etiqueta):\n",
    "        return None\n",
    "    \n",
    "    nombre_etiqueta = normalizar_etiqueta(nombre_etiqueta)\n",
    "\n",
    "    url = f\"{wordpress_url}/wp-json/wp/v2/tags\"\n",
    "    params = {'search': nombre_etiqueta}\n",
    "    \n",
    "    response = requests.get(url, params=params, auth=HTTPBasicAuth(username, password))\n",
    "    \n",
    "    if response.status_code == 200:\n",
    "        etiquetas = response.json()\n",
    "        if etiquetas:\n",
    "            return etiquetas[0]['id']\n",
    "        else:\n",
    "            # Crear la etiqueta si no existe\n",
    "            data = {'name': nombre_etiqueta}\n",
    "            response = requests.post(url, json=data, headers={'Content-Type': 'application/json'}, auth=HTTPBasicAuth(username, password))\n",
    "            \n",
    "            if response.status_code == 201:\n",
    "                return response.json()['id']\n",
    "            else:\n",
    "                print(f\"Error al crear la etiqueta '{nombre_etiqueta}': {response.content}\")\n",
    "                return None\n",
    "    else:\n",
    "        print(f\"Error al buscar la etiqueta '{nombre_etiqueta}': {response.content}\")\n",
    "        return None\n"
   ],
   "metadata": {
    "collapsed": false,
    "ExecuteTime": {
     "end_time": "2024-05-27T15:20:12.325726900Z",
     "start_time": "2024-05-27T15:20:12.315461800Z"
    }
   },
   "id": "fcb0520c6ef90d9c"
  },
  {
   "cell_type": "code",
   "execution_count": 13,
   "outputs": [
    {
     "name": "stdout",
     "output_type": "stream",
     "text": [
      "Post 'UVEG - Universidad Virtual del Estado de Guanajuato' creado exitosamente.\n",
      "Post 'UDG Virtual ' creado exitosamente.\n",
      "Post 'UNADM - Universidad SEP en Línea' creado exitosamente.\n",
      "Post 'SUAyED - UNAM en Línea' creado exitosamente.\n",
      "Post 'Polivirtual - IPN en Línea' creado exitosamente.\n",
      "Post 'UAEMex en Línea' creado exitosamente.\n",
      "Post 'UAEM en Línea' creado exitosamente.\n",
      "Post 'BUAP en Línea y a Distancia' creado exitosamente.\n",
      "Post 'UAQ Virtual' creado exitosamente.\n",
      "Post 'UJED Virtual' creado exitosamente.\n",
      "Post 'ITSON Virtual ' creado exitosamente.\n",
      "Post 'UNACH Virtual' creado exitosamente.\n",
      "Post 'UAEH Virtual ' creado exitosamente.\n",
      "Post 'UACH Virtual ' creado exitosamente.\n",
      "Post 'UV en línea' creado exitosamente.\n",
      "Post 'UJAT en línea ' creado exitosamente.\n",
      "Post 'UVM en Línea' creado exitosamente.\n",
      "Post 'UTEL' creado exitosamente.\n",
      "Post 'Tecmilenio Online' creado exitosamente.\n",
      "Post 'Universidad Mexicana ' creado exitosamente.\n",
      "Post 'La Salle en Línea' creado exitosamente.\n",
      "Post 'Unitec en Línea' creado exitosamente.\n",
      "Post 'ULA Online ' creado exitosamente.\n",
      "Post 'Univa a Distancia' creado exitosamente.\n",
      "Post 'Tecvirtual - ITESM online' creado exitosamente.\n",
      "Post 'Universidad IEU' creado exitosamente.\n",
      "Post 'UIC Online' creado exitosamente.\n",
      "Post 'Anahuac Virtual' creado exitosamente.\n",
      "Post 'UPAEP en línea' creado exitosamente.\n",
      "Post 'UM en línea - Montemorelos' creado exitosamente.\n",
      "Post 'UNE en línea' creado exitosamente.\n",
      "Post 'UFLP Virtual' creado exitosamente.\n",
      "Post 'UA virtual - Aztlán ' creado exitosamente.\n",
      "Post 'UMM a distancia' creado exitosamente.\n",
      "Post 'UCEM en línea' creado exitosamente.\n",
      "Post 'UMOV Academy ' creado exitosamente.\n",
      "Post 'Escuela Jacobea de Posgrado EJP' creado exitosamente.\n",
      "Post 'UVG En Línea' creado exitosamente.\n",
      "Post 'UAM – Universidad Autónoma Metropolitana' creado exitosamente.\n",
      "Post 'UDLAP – Universidad de las Américas Puebla' creado exitosamente.\n",
      "Post 'IBERO – Universidad Iberoamericana' creado exitosamente.\n",
      "Post 'UANL – Universidad Autónoma de Nuevo León' creado exitosamente.\n",
      "Post 'ITESO – Instituto Tecnológico y de Estudios Superiores de Occidente' creado exitosamente.\n",
      "Post 'UDEM – Universidad de Monterrey' creado exitosamente.\n",
      "Post 'UAG – Universidad Autónoma de Guadalajara' creado exitosamente.\n",
      "Post 'UPN – Universidad Pedagógica Nacional' creado exitosamente.\n",
      "Post 'UPQ – Universidad Politécnica de Querétaro' creado exitosamente.\n",
      "Post 'UJS – Universidad Justo Sierra' creado exitosamente.\n",
      "Post 'UPEMOR – Universidad Politécnica de Morelos' creado exitosamente.\n",
      "Post 'Universidad de Londres' creado exitosamente.\n",
      "Post 'Instituto Tecnológico Superior de Zacapoaxtla' creado exitosamente.\n",
      "Post 'UVP – Universidad del Valle de Puebla' creado exitosamente.\n",
      "Post 'UNEA – Universidad de Estudios Avanzados' creado exitosamente.\n",
      "Post 'UNINTER – Universidad Intercontinental' creado exitosamente.\n",
      "Post 'Universidad de Ixtlahuaca CUI' creado exitosamente.\n",
      "Post 'Universidad Etac' creado exitosamente.\n",
      "Post 'Universidad de Oriente' creado exitosamente.\n",
      "Post 'UNID – Universidad Interamericana para el Desarrollo' creado exitosamente.\n",
      "Post 'Universidad Insurgentes' creado exitosamente.\n",
      "Post 'UASLP – Universidad Autónoma de San Luis Potosí' creado exitosamente.\n",
      "Post ' UIA –Universidad Iberoamericana A.C.' creado exitosamente.\n",
      "Post 'UGTO – Universidad de Guanajuato' creado exitosamente.\n",
      "Post 'UMSNH – Universidad Michoacana de San Nicolás de Hidalgo' creado exitosamente.\n",
      "Post ' UADY – Universidad Autónoma de Yucatán' creado exitosamente.\n",
      "Post 'UCOL – Universidad de Colima' creado exitosamente.\n",
      "Post 'UNISON – Universidad de Sonora' creado exitosamente.\n",
      "Post 'UAS – Universidad Autónoma de Sinaloa' creado exitosamente.\n",
      "Post 'ITAM – Instituto Tecnológico Autónomo de México' creado exitosamente.\n",
      "Post 'UACJ – Universidad Autónoma de Ciudad Juárez' creado exitosamente.\n",
      "Post 'UABC – Universidad Autónoma de Baja California' creado exitosamente.\n",
      "Post 'UP – Universidad Panamericana México' creado exitosamente.\n",
      "Post 'UAA – Universidad Autónoma de Aguascalientes' creado exitosamente.\n",
      "Post 'UAZ – Universidad Autónoma de Zacatecas' creado exitosamente.\n",
      "Post 'UAGRO – Universidad Autónoma de Guerrero' creado exitosamente.\n",
      "Post 'UACM – Universidad Autónoma de la Ciudad de México' creado exitosamente.\n",
      "Post 'UAAN – Universidad Autónoma Agraria Antonio Narro ' creado exitosamente.\n",
      "Post 'UATX – Universidad Autónoma de Tlaxcala' creado exitosamente.\n",
      "Post 'UADEC – Universidad Autónoma de Coahuila' creado exitosamente.\n",
      "Post 'COLMEX – Colegio de México' creado exitosamente.\n",
      "Post 'UAT – Universidad Autónoma de Tamaulipas' creado exitosamente.\n",
      "Post ' UTM – Universidad Tecnológica de la Mixteca' creado exitosamente.\n",
      "Post 'UABCS – Universidad Autónoma de Baja California Sur' creado exitosamente.\n",
      "Post 'UACAM – Universidad Autónoma de Campeche' creado exitosamente.\n",
      "Post 'UNICACH – Universidad de Ciencias y Artes de Chiapas' creado exitosamente.\n",
      "Post 'UNACAR – Universidad Autónoma del Carmen' creado exitosamente.\n",
      "Post 'UQROO – Universidad de Quintana Roo' creado exitosamente.\n",
      "Post 'ULSA – Universidad La Salle Ciudad de México' creado exitosamente.\n",
      "Post 'CIDE – Centro de Investigación y Docencia Económicas' creado exitosamente.\n",
      "Post 'UABJO – Universidad Autónoma Benito Juárez de Oaxaca' creado exitosamente.\n",
      "Post 'UAN – Universidad Autónoma de Nayarit' creado exitosamente.\n",
      "Post 'CETYS – Centro de Enseñanza Técnica y Superior' creado exitosamente.\n",
      "Post 'UPP – Universidad Politécnica de Pachuca' creado exitosamente.\n",
      "Post 'UMAR – Universidad del mar' creado exitosamente.\n",
      "Post 'CIMAT- Centro de Investigación en Matemáticas' creado exitosamente.\n",
      "Post 'ITC – Instituto Tecnológico de Celaya' creado exitosamente.\n",
      "Post 'UES – Universidad Estatal de Sonora' creado exitosamente.\n",
      "Post 'ITD – Instituto Tecnológico de Durango' creado exitosamente.\n",
      "Post 'ITM – Instituto Tecnológico de Morelia' creado exitosamente.\n",
      "Post 'Instituto Tecnológico de la Laguna' creado exitosamente.\n",
      "Post 'Instituto Tecnológico de Hermosillo' creado exitosamente.\n",
      "Post 'IPADE – Business School' creado exitosamente.\n",
      "Post 'Universidad de Papaloapan' creado exitosamente.\n",
      "Post 'Instituto Tecnológico de Mérida' creado exitosamente.\n",
      "Post 'Universidad Xochicalco' creado exitosamente.\n",
      "Post 'ITT – Instituto Tecnológico de Tehuacán' creado exitosamente.\n",
      "Post 'Instituto Tecnológico de León' creado exitosamente.\n",
      "Post 'Universidad Politécnica de Tulancingo' creado exitosamente.\n",
      "Post 'Instituto Tecnológico de Saltillo.' creado exitosamente.\n",
      "Proceso completado\n"
     ]
    }
   ],
   "source": [
    "# Crear posts para todas las universidades\n",
    "for uni in universidades:\n",
    "    etiquetas = []\n",
    "    \n",
    "    # Obtener o crear etiquetas del distrito\n",
    "    distrito = uni.get('distrito')\n",
    "    if distrito and not pd.isna(distrito):  # Verificar que el distrito no esté vacío\n",
    "        etiqueta_id = obtener_o_crear_etiqueta(distrito)\n",
    "        if etiqueta_id:\n",
    "            etiquetas.append(etiqueta_id)\n",
    "    \n",
    "    # Evaluar las etiquetas 'publica', 'privada', 'online'\n",
    "    for key in ['publica', 'privada', 'online']:\n",
    "        if uni.get(key) == 'si':\n",
    "            etiqueta_id = obtener_o_crear_etiqueta(key)\n",
    "            if etiqueta_id:\n",
    "                etiquetas.append(etiqueta_id)\n",
    "    \n",
    "    # Crear el post\n",
    "    nombre = uni['universidad']\n",
    "    contenido = uni.get('contenido', '')\n",
    "    crear_post(nombre, contenido, etiquetas)\n",
    "    \n",
    "print(\"Proceso completado\")"
   ],
   "metadata": {
    "collapsed": false,
    "ExecuteTime": {
     "end_time": "2024-05-27T15:21:24.939817100Z",
     "start_time": "2024-05-27T15:20:13.340189400Z"
    }
   },
   "id": "7511d458f45a711c"
  },
  {
   "cell_type": "code",
   "execution_count": null,
   "outputs": [],
   "source": [],
   "metadata": {
    "collapsed": false
   },
   "id": "db920cdb8d82ee6e"
  }
 ],
 "metadata": {
  "kernelspec": {
   "display_name": "Python 3",
   "language": "python",
   "name": "python3"
  },
  "language_info": {
   "codemirror_mode": {
    "name": "ipython",
    "version": 2
   },
   "file_extension": ".py",
   "mimetype": "text/x-python",
   "name": "python",
   "nbconvert_exporter": "python",
   "pygments_lexer": "ipython2",
   "version": "2.7.6"
  }
 },
 "nbformat": 4,
 "nbformat_minor": 5
}
